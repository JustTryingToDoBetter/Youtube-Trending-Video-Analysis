{
 "cells": [
  {
   "cell_type": "code",
   "execution_count": 13,
   "id": "6c12444f",
   "metadata": {},
   "outputs": [
    {
     "name": "stdout",
     "output_type": "stream",
     "text": [
      "Collecting openpyxl\n",
      "  Downloading openpyxl-3.1.5-py2.py3-none-any.whl.metadata (2.5 kB)\n",
      "Collecting et-xmlfile (from openpyxl)\n",
      "  Downloading et_xmlfile-2.0.0-py3-none-any.whl.metadata (2.7 kB)\n",
      "Downloading openpyxl-3.1.5-py2.py3-none-any.whl (250 kB)\n",
      "Downloading et_xmlfile-2.0.0-py3-none-any.whl (18 kB)\n",
      "Installing collected packages: et-xmlfile, openpyxl\n",
      "\u001b[2K   \u001b[90m━━━━━━━━━━━━━━━━━━━━━━━━━━━━━━━━━━━━━━━━\u001b[0m \u001b[32m2/2\u001b[0m [openpyxl]1/2\u001b[0m [openpyxl]\n",
      "\u001b[1A\u001b[2KSuccessfully installed et-xmlfile-2.0.0 openpyxl-3.1.5\n",
      "\n",
      "\u001b[1m[\u001b[0m\u001b[34;49mnotice\u001b[0m\u001b[1;39;49m]\u001b[0m\u001b[39;49m A new release of pip is available: \u001b[0m\u001b[31;49m25.1.1\u001b[0m\u001b[39;49m -> \u001b[0m\u001b[32;49m25.2\u001b[0m\n",
      "\u001b[1m[\u001b[0m\u001b[34;49mnotice\u001b[0m\u001b[1;39;49m]\u001b[0m\u001b[39;49m To update, run: \u001b[0m\u001b[32;49mpython3 -m pip install --upgrade pip\u001b[0m\n"
     ]
    }
   ],
   "source": [
    "!pip install openpyxl"
   ]
  },
  {
   "cell_type": "code",
   "execution_count": 14,
   "id": "828007eb",
   "metadata": {},
   "outputs": [
    {
     "data": {
      "text/html": [
       "<div>\n",
       "<style scoped>\n",
       "    .dataframe tbody tr th:only-of-type {\n",
       "        vertical-align: middle;\n",
       "    }\n",
       "\n",
       "    .dataframe tbody tr th {\n",
       "        vertical-align: top;\n",
       "    }\n",
       "\n",
       "    .dataframe thead th {\n",
       "        text-align: right;\n",
       "    }\n",
       "</style>\n",
       "<table border=\"1\" class=\"dataframe\">\n",
       "  <thead>\n",
       "    <tr style=\"text-align: right;\">\n",
       "      <th></th>\n",
       "      <th>InvoiceNo</th>\n",
       "      <th>StockCode</th>\n",
       "      <th>Description</th>\n",
       "      <th>Quantity</th>\n",
       "      <th>InvoiceDate</th>\n",
       "      <th>UnitPrice</th>\n",
       "      <th>CustomerID</th>\n",
       "      <th>Country</th>\n",
       "    </tr>\n",
       "  </thead>\n",
       "  <tbody>\n",
       "    <tr>\n",
       "      <th>0</th>\n",
       "      <td>536365</td>\n",
       "      <td>85123A</td>\n",
       "      <td>WHITE HANGING HEART T-LIGHT HOLDER</td>\n",
       "      <td>6</td>\n",
       "      <td>2010-12-01 08:26:00</td>\n",
       "      <td>2.55</td>\n",
       "      <td>17850.0</td>\n",
       "      <td>United Kingdom</td>\n",
       "    </tr>\n",
       "    <tr>\n",
       "      <th>1</th>\n",
       "      <td>536365</td>\n",
       "      <td>71053</td>\n",
       "      <td>WHITE METAL LANTERN</td>\n",
       "      <td>6</td>\n",
       "      <td>2010-12-01 08:26:00</td>\n",
       "      <td>3.39</td>\n",
       "      <td>17850.0</td>\n",
       "      <td>United Kingdom</td>\n",
       "    </tr>\n",
       "    <tr>\n",
       "      <th>2</th>\n",
       "      <td>536365</td>\n",
       "      <td>84406B</td>\n",
       "      <td>CREAM CUPID HEARTS COAT HANGER</td>\n",
       "      <td>8</td>\n",
       "      <td>2010-12-01 08:26:00</td>\n",
       "      <td>2.75</td>\n",
       "      <td>17850.0</td>\n",
       "      <td>United Kingdom</td>\n",
       "    </tr>\n",
       "    <tr>\n",
       "      <th>3</th>\n",
       "      <td>536365</td>\n",
       "      <td>84029G</td>\n",
       "      <td>KNITTED UNION FLAG HOT WATER BOTTLE</td>\n",
       "      <td>6</td>\n",
       "      <td>2010-12-01 08:26:00</td>\n",
       "      <td>3.39</td>\n",
       "      <td>17850.0</td>\n",
       "      <td>United Kingdom</td>\n",
       "    </tr>\n",
       "    <tr>\n",
       "      <th>4</th>\n",
       "      <td>536365</td>\n",
       "      <td>84029E</td>\n",
       "      <td>RED WOOLLY HOTTIE WHITE HEART.</td>\n",
       "      <td>6</td>\n",
       "      <td>2010-12-01 08:26:00</td>\n",
       "      <td>3.39</td>\n",
       "      <td>17850.0</td>\n",
       "      <td>United Kingdom</td>\n",
       "    </tr>\n",
       "  </tbody>\n",
       "</table>\n",
       "</div>"
      ],
      "text/plain": [
       "  InvoiceNo StockCode                          Description  Quantity  \\\n",
       "0    536365    85123A   WHITE HANGING HEART T-LIGHT HOLDER         6   \n",
       "1    536365     71053                  WHITE METAL LANTERN         6   \n",
       "2    536365    84406B       CREAM CUPID HEARTS COAT HANGER         8   \n",
       "3    536365    84029G  KNITTED UNION FLAG HOT WATER BOTTLE         6   \n",
       "4    536365    84029E       RED WOOLLY HOTTIE WHITE HEART.         6   \n",
       "\n",
       "          InvoiceDate  UnitPrice  CustomerID         Country  \n",
       "0 2010-12-01 08:26:00       2.55     17850.0  United Kingdom  \n",
       "1 2010-12-01 08:26:00       3.39     17850.0  United Kingdom  \n",
       "2 2010-12-01 08:26:00       2.75     17850.0  United Kingdom  \n",
       "3 2010-12-01 08:26:00       3.39     17850.0  United Kingdom  \n",
       "4 2010-12-01 08:26:00       3.39     17850.0  United Kingdom  "
      ]
     },
     "execution_count": 14,
     "metadata": {},
     "output_type": "execute_result"
    }
   ],
   "source": [
    "import pandas as pd\n",
    "\n",
    "df = pd.read_excel('OnlineRetail.xlsx')\n",
    "df.head()"
   ]
  },
  {
   "cell_type": "code",
   "execution_count": 15,
   "id": "76ed980a",
   "metadata": {},
   "outputs": [],
   "source": [
    "def preprocess(df):\n",
    "    # --- Mapping countries to regions ---\n",
    "    country_to_region = {\n",
    "        # Europe\n",
    "        \"United Kingdom\": \"Europe\", \"France\": \"Europe\", \"Germany\": \"Europe\",\n",
    "        \"Norway\": \"Europe\", \"Switzerland\": \"Europe\", \"Austria\": \"Europe\",\n",
    "        \"Spain\": \"Europe\", \"Portugal\": \"Europe\", \"Italy\": \"Europe\",\n",
    "        \"Netherlands\": \"Europe\", \"Belgium\": \"Europe\", \"Finland\": \"Europe\",\n",
    "        \"Sweden\": \"Europe\", \"Poland\": \"Europe\", \"Denmark\": \"Europe\",\n",
    "        \n",
    "        # Middle East\n",
    "        \"Saudi Arabia\": \"Middle East\", \"United Arab Emirates\": \"Middle East\",\n",
    "        \"Israel\": \"Middle East\", \"Lebanon\": \"Middle East\", \"Bahrain\": \"Middle East\",\n",
    "        \n",
    "        # North America\n",
    "        \"USA\": \"North America\", \"United States\": \"North America\",\n",
    "        \"Canada\": \"North America\",\n",
    "        \n",
    "        # South America\n",
    "        \"Brazil\": \"South America\", \"Argentina\": \"South America\",\n",
    "        \"Chile\": \"South America\",\n",
    "        \n",
    "        # Asia\n",
    "        \"Japan\": \"Asia\", \"Singapore\": \"Asia\", \"Hong Kong\": \"Asia\",\n",
    "        \"China\": \"Asia\", \"Thailand\": \"Asia\", \"Malaysia\": \"Asia\",\n",
    "        \"Korea\": \"Asia\", \"Taiwan\": \"Asia\", \"India\": \"Asia\",\n",
    "        \n",
    "        # Oceania\n",
    "        \"Australia\": \"Oceania\", \"New Zealand\": \"Oceania\",\n",
    "        \n",
    "        # Africa\n",
    "        \"South Africa\": \"Africa\", \"Nigeria\": \"Africa\", \"Egypt\": \"Africa\"\n",
    "    }\n",
    "\n",
    "    # --- Create the Region column ---\n",
    "    df[\"Region\"] = df[\"Country\"].map(country_to_region)\n",
    "    \n",
    "    # --- Handle unmapped countries ---\n",
    "    df[\"Region\"].fillna(\"Other\", inplace=True)\n",
    "    \n",
    "    # --- Split into regional DataFrames ---\n",
    "    regions = df[\"Region\"].unique()\n",
    "    region_dfs = {region: df[df[\"Region\"] == region] for region in regions}\n",
    "    \n",
    "    return region_dfs\n"
   ]
  },
  {
   "cell_type": "code",
   "execution_count": 16,
   "id": "ad9d600c",
   "metadata": {},
   "outputs": [
    {
     "name": "stderr",
     "output_type": "stream",
     "text": [
      "/tmp/ipykernel_20663/2578058131.py:39: FutureWarning: A value is trying to be set on a copy of a DataFrame or Series through chained assignment using an inplace method.\n",
      "The behavior will change in pandas 3.0. This inplace method will never work because the intermediate object on which we are setting values always behaves as a copy.\n",
      "\n",
      "For example, when doing 'df[col].method(value, inplace=True)', try using 'df.method({col: value}, inplace=True)' or df[col] = df[col].method(value) instead, to perform the operation inplace on the original object.\n",
      "\n",
      "\n",
      "  df[\"Region\"].fillna(\"Other\", inplace=True)\n"
     ]
    }
   ],
   "source": [
    "region_dfs = preprocess(df)"
   ]
  },
  {
   "cell_type": "code",
   "execution_count": 17,
   "id": "b2cfb132",
   "metadata": {},
   "outputs": [
    {
     "data": {
      "text/plain": [
       "['Europe',\n",
       " 'Oceania',\n",
       " 'Other',\n",
       " 'Asia',\n",
       " 'Middle East',\n",
       " 'North America',\n",
       " 'South America']"
      ]
     },
     "execution_count": 17,
     "metadata": {},
     "output_type": "execute_result"
    }
   ],
   "source": [
    "list(region_dfs.keys())"
   ]
  },
  {
   "cell_type": "code",
   "execution_count": 18,
   "id": "79565d50",
   "metadata": {},
   "outputs": [
    {
     "name": "stdout",
     "output_type": "stream",
     "text": [
      "Region: Europe, Number of Records: 528201\n",
      "Region: Oceania, Number of Records: 1259\n",
      "Region: Other, Number of Records: 10661\n",
      "Region: Asia, Number of Records: 875\n",
      "Region: Middle East, Number of Records: 439\n",
      "Region: North America, Number of Records: 442\n",
      "Region: South America, Number of Records: 32\n"
     ]
    }
   ],
   "source": [
    "for region, data in region_dfs.items():\n",
    "    print(f\"Region: {region}, Number of Records: {len(data)}\")"
   ]
  },
  {
   "cell_type": "code",
   "execution_count": 19,
   "id": "493c3450",
   "metadata": {},
   "outputs": [
    {
     "name": "stdout",
     "output_type": "stream",
     "text": [
      "Saved: Europe_data.csv\n",
      "Saved: Oceania_data.csv\n",
      "Saved: Other_data.csv\n",
      "Saved: Asia_data.csv\n",
      "Saved: Middle_East_data.csv\n",
      "Saved: North_America_data.csv\n",
      "Saved: South_America_data.csv\n"
     ]
    }
   ],
   "source": [
    "for region, data in region_dfs.items():\n",
    "    filename = f\"{region.replace(' ', '_')}_data.csv\"\n",
    "    data.to_csv(filename, index=False)\n",
    "    print(f\"Saved: {filename}\")\n"
   ]
  },
  {
   "cell_type": "code",
   "execution_count": 20,
   "id": "bdb7f6af",
   "metadata": {},
   "outputs": [
    {
     "data": {
      "text/plain": [
       "Region\n",
       "Europe           528201\n",
       "Other             10661\n",
       "Oceania            1259\n",
       "Asia                875\n",
       "North America       442\n",
       "Middle East         439\n",
       "South America        32\n",
       "Name: count, dtype: int64"
      ]
     },
     "execution_count": 20,
     "metadata": {},
     "output_type": "execute_result"
    }
   ],
   "source": [
    "df[\"Region\"].value_counts()\n"
   ]
  }
 ],
 "metadata": {
  "kernelspec": {
   "display_name": "Python 3",
   "language": "python",
   "name": "python3"
  },
  "language_info": {
   "codemirror_mode": {
    "name": "ipython",
    "version": 3
   },
   "file_extension": ".py",
   "mimetype": "text/x-python",
   "name": "python",
   "nbconvert_exporter": "python",
   "pygments_lexer": "ipython3",
   "version": "3.12.1"
  }
 },
 "nbformat": 4,
 "nbformat_minor": 5
}
